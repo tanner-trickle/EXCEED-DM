{
 "cells": [
  {
   "cell_type": "markdown",
   "id": "2531ac16-3e39-48f2-a105-6b69fd915f23",
   "metadata": {},
   "source": [
    "# Example #16 Analysis\n",
    "\n",
    "- Target: Si\n",
    "\n",
    "- Process: scattering\n",
    "\n",
    "- Description: Spin independent valence to conduction transition for \\( 2x2x2 \\) calculation. Example calculation for user manual."
   ]
  },
  {
   "cell_type": "markdown",
   "id": "6473d888-923c-49f2-b513-7bbbcfc72f65",
   "metadata": {},
   "source": [
    "## Packages"
   ]
  },
  {
   "cell_type": "code",
   "execution_count": 15,
   "id": "4c8d91f2-de8c-411d-85b7-4e46ce89963e",
   "metadata": {},
   "outputs": [
    {
     "name": "stdout",
     "output_type": "stream",
     "text": [
      "Processing c:\\users\\tanner\\exceed-dm_light\n",
      "Building wheels for collected packages: EXCEED-DM-light\n",
      "  Building wheel for EXCEED-DM-light (setup.py): started\n",
      "  Building wheel for EXCEED-DM-light (setup.py): finished with status 'done'\n",
      "  Created wheel for EXCEED-DM-light: filename=EXCEED_DM_light-1.0.0-py3-none-any.whl size=25661 sha256=67074c848509b5b5d364988072bac5f6a09e15d433b2b8c413ae5e213ac6fb50\n",
      "  Stored in directory: c:\\users\\tanner\\appdata\\local\\pip\\cache\\wheels\\61\\f7\\7a\\72149c39ba76cb2c25cd55045a16731378d45d06e2214b92ca\n",
      "Successfully built EXCEED-DM-light\n",
      "Installing collected packages: EXCEED-DM-light\n",
      "  Attempting uninstall: EXCEED-DM-light\n",
      "    Found existing installation: EXCEED-DM-light 1.0.0\n",
      "    Uninstalling EXCEED-DM-light-1.0.0:\n",
      "      Successfully uninstalled EXCEED-DM-light-1.0.0\n",
      "Successfully installed EXCEED-DM-light-1.0.0\n"
     ]
    },
    {
     "data": {
      "image/png": "[encoded data removed]",
      "text/plain": [
       "<Figure size 648x72 with 1 Axes>"
      ]
     },
     "metadata": {},
     "output_type": "display_data"
    }
   ],
   "source": [
    "# Note: this line will be removed once EXCEED-DM_light can be pip installed.\n",
    "! cd \"C:/Users/Tanner/EXCEED-DM_light/\" && python -m pip install .\n",
    "\n",
    "import EXCEED_DM_light as exdm\n",
    "import numpy as np\n",
    "\n",
    "%run \"../../../utilities/post_analysis/plotter.ipynb\""
   ]
  },
  {
   "cell_type": "markdown",
   "id": "45f0a128-0611-4ed8-a3dc-58fdf99d778f",
   "metadata": {},
   "source": [
    "## Data"
   ]
  },
  {
   "cell_type": "code",
   "execution_count": 16,
   "id": "f8fb4f01-2091-4129-8c8e-2775519e0667",
   "metadata": {},
   "outputs": [],
   "source": [
    "data = exdm.Data('../output/EXDMout_16.hdf5')\n",
    "\n",
    "log10_mX = np.log10(data.masses_MeV())\n",
    "log10_reach_light  = np.log10(data.scatter_sigma_constraint(2.))\n",
    "\n",
    "log10_binned_rate_E = np.log10(data.scatter_binned_rate(10.**9, 2.))"
   ]
  },
  {
   "cell_type": "markdown",
   "id": "ca05939e-08bc-4fcc-9d8c-79a06d71e360",
   "metadata": {},
   "source": [
    "## Plots"
   ]
  },
  {
   "cell_type": "markdown",
   "id": "947abb86-dc1e-4e30-a7e6-489da3dbcb6f",
   "metadata": {},
   "source": [
    "### Reach"
   ]
  },
  {
   "cell_type": "code",
   "execution_count": 19,
   "id": "65355495-a7d7-4753-ae39-1ec0ac9eae04",
   "metadata": {},
   "outputs": [
    {
     "data": {
      "image/png": "[encoded data removed]",
      "text/plain": [
       "<Figure size 554.4x504 with 1 Axes>"
      ]
     },
     "metadata": {},
     "output_type": "display_data"
    }
   ],
   "source": [
    "save_fig = True\n",
    "\n",
    "fig, axes = plt.subplots(nrows = 1, ncols = 1, figsize=(7*1.1, 7))\n",
    "\n",
    "# axes\n",
    "log10_mX_min = -1\n",
    "log10_mX_max = 3\n",
    "\n",
    "log10_sigma_min = -43\n",
    "log10_sigma_max = -38\n",
    "\n",
    "set_custom_tick_options(axes)\n",
    "axes.set_xlim(log10_mX_min, log10_mX_max)\n",
    "axes.set_ylim(log10_sigma_min, log10_sigma_max)\n",
    "set_log_xticks(axes, log10_mX_min, log10_mX_max)\n",
    "set_log_yticks(axes, log10_sigma_min, log10_sigma_max, show_first = False)\n",
    "\n",
    "axes.set_xlabel(r'$m_\\chi$ $[\\mathrm{MeV}]$', fontsize = 30)\n",
    "axes.set_ylabel(r'$\\overline{\\sigma}_e$ $[ \\mathrm{cm}^2 ]$', fontsize = 30)\n",
    "\n",
    "# plot\n",
    "\n",
    "axes.plot(\n",
    "    log10_mX,\n",
    "    log10_reach_light,\n",
    "    color = color_list_disc[0]\n",
    ")\n",
    "\n",
    "fig.tight_layout()\n",
    "    \n",
    "if save_fig:\n",
    "    plt.savefig('./ex_16_light_reach.pdf', \n",
    "                bbox_inches='tight', pad_inches = 0.075)\n",
    "\n",
    "plt.show()"
   ]
  },
  {
   "cell_type": "markdown",
   "id": "d3139c7b-2e75-4374-ae85-3e55af99cf29",
   "metadata": {},
   "source": [
    "### Binned Rate"
   ]
  },
  {
   "cell_type": "code",
   "execution_count": null,
   "id": "6b78f191-283c-4008-923c-81819f1375a3",
   "metadata": {},
   "outputs": [],
   "source": []
  }
 ],
 "metadata": {
  "kernelspec": {
   "display_name": "Python 3 (ipykernel)",
   "language": "python",
   "name": "python3"
  },
  "language_info": {
   "codemirror_mode": {
    "name": "ipython",
    "version": 3
   },
   "file_extension": ".py",
   "mimetype": "text/x-python",
   "name": "python",
   "nbconvert_exporter": "python",
   "pygments_lexer": "ipython3",
   "version": "3.9.2"
  }
 },
 "nbformat": 4,
 "nbformat_minor": 5
}
