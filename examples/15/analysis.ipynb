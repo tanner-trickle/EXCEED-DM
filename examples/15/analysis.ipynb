{
 "cells": [
  {
   "cell_type": "markdown",
   "id": "22fec1b1-2a96-4e90-af5a-1ffd91d4cd26",
   "metadata": {},
   "source": [
    "# Example 15 Analysis\n",
    "\n",
    "We will plot the rate binned in energy deposition."
   ]
  },
  {
   "cell_type": "markdown",
   "id": "6d6c21a3-325f-4cb0-b28d-41dcaf9db297",
   "metadata": {},
   "source": [
    "## Packages"
   ]
  },
  {
   "cell_type": "code",
   "execution_count": 1,
   "id": "6b101b00-feea-4532-b459-241ed5e873d8",
   "metadata": {},
   "outputs": [],
   "source": [
    "import numpy as np\n",
    "\n",
    "# some personal preferences for nice plots\n",
    "%run \"../../utilities/output_parser/plotter.ipynb\"\n",
    "\n",
    "# helpful functions for processing output\n",
    "import sys\n",
    "sys.path.append(\"../../utilities/output_parser\")\n",
    "import EXDMDataHandler\n",
    "from EXDMDataHandler import EXDMData"
   ]
  },
  {
   "cell_type": "markdown",
   "id": "66132121-04a3-4680-855d-d322ee9ef758",
   "metadata": {},
   "source": [
    "## Data"
   ]
  },
  {
   "cell_type": "code",
   "execution_count": 2,
   "id": "b3b8e7b9-6526-493c-95ae-6f7ea8835154",
   "metadata": {},
   "outputs": [],
   "source": [
    "data = EXDMData(filename = './output/EXDM_out_example_15.hdf5')"
   ]
  },
  {
   "cell_type": "markdown",
   "id": "53d65772-4ede-4e23-a513-9a9ec0ef3b40",
   "metadata": {},
   "source": [
    "## Results"
   ]
  },
  {
   "cell_type": "markdown",
   "id": "75c8b5bb-d849-4fb5-b59b-7b62859ed2ce",
   "metadata": {
    "tags": []
   },
   "source": [
    "### Binned Scatter Rate"
   ]
  },
  {
   "cell_type": "markdown",
   "id": "0b5db0a2-6aac-44aa-947b-59f99067c067",
   "metadata": {},
   "source": [
    "#### Data"
   ]
  },
  {
   "cell_type": "code",
   "execution_count": 3,
   "id": "8ed7245c-e2c7-4175-ae3b-1f23260bb5ff",
   "metadata": {},
   "outputs": [],
   "source": [
    "[ E_bin_LHS, binned_scatter_rate_E ] = data.get_binned_scatter_rate_E(mass_MeV = 10**2, \n",
    "                                                                      med_FF = 2., \n",
    "                                                                      sigma_cm2 = 10**(-40),\n",
    "                                                                      E_bin_width = 2.)"
   ]
  },
  {
   "cell_type": "markdown",
   "id": "d614e2be-ae23-41d0-be5b-5a9d4d514766",
   "metadata": {},
   "source": [
    "#### Plot"
   ]
  },
  {
   "cell_type": "code",
   "execution_count": 5,
   "id": "addfd319-3fb4-43de-b13d-bfa08361eb67",
   "metadata": {},
   "outputs": [
    {
     "data": {
      "image/png": "[encoded data removed]",
      "text/plain": [
       "<Figure size 554.4x504 with 1 Axes>"
      ]
     },
     "metadata": {},
     "output_type": "display_data"
    }
   ],
   "source": [
    "save_fig = True\n",
    "\n",
    "fig, axes = plt.subplots(nrows=1, ncols=1, \n",
    "                             figsize=(7*1.1, 7))\n",
    "\n",
    "E_min = 0\n",
    "E_max = 400\n",
    "dE = 100.\n",
    "\n",
    "log_events_min = -8\n",
    "log_events_max = 3\n",
    "\n",
    "set_custom_tick_options(axes)\n",
    "set_custom_axes(axes, 'x', E_min, E_max,\n",
    "               ax_type = 'lin', \n",
    "               label = r'$\\omega \\, [\\mathrm{eV}]$', \n",
    "               step = dE)\n",
    "set_custom_axes(axes, 'y', log_events_min, log_events_max,\n",
    "               ax_type = 'log', \n",
    "               label = r'$\\# \\ \\mathrm{Events}$', \n",
    "               show_first = False)\n",
    "\n",
    "axes.step(\n",
    "    E_bin_LHS, \n",
    "    np.log10(binned_scatter_rate_E),\n",
    "    where = 'post'\n",
    ")\n",
    "\n",
    "fig.tight_layout()\n",
    "    \n",
    "if save_fig:\n",
    "    plt.savefig('./output/Si_binned_scatter_rate_2x2x2_VA.pdf', \n",
    "                bbox_inches='tight', pad_inches = 0.075)\n",
    "\n",
    "plt.show()"
   ]
  }
 ],
 "metadata": {
  "kernelspec": {
   "display_name": "Python 3 (ipykernel)",
   "language": "python",
   "name": "python3"
  },
  "language_info": {
   "codemirror_mode": {
    "name": "ipython",
    "version": 3
   },
   "file_extension": ".py",
   "mimetype": "text/x-python",
   "name": "python",
   "nbconvert_exporter": "python",
   "pygments_lexer": "ipython3",
   "version": "3.9.2"
  }
 },
 "nbformat": 4,
 "nbformat_minor": 5
}
